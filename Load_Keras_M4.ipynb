{
 "cells": [
  {
   "cell_type": "code",
   "execution_count": 1,
   "id": "9bd7392e",
   "metadata": {
    "execution": {
     "iopub.execute_input": "2022-12-12T23:56:23.329985Z",
     "iopub.status.busy": "2022-12-12T23:56:23.329205Z",
     "iopub.status.idle": "2022-12-12T23:56:31.723454Z",
     "shell.execute_reply": "2022-12-12T23:56:31.723016Z",
     "shell.execute_reply.started": "2022-12-12T23:56:23.329821Z"
    }
   },
   "outputs": [
    {
     "name": "stderr",
     "output_type": "stream",
     "text": [
      "2022-12-12 18:56:27.719122: I tensorflow/core/platform/cpu_feature_guard.cc:193] This TensorFlow binary is optimized with oneAPI Deep Neural Network Library (oneDNN) to use the following CPU instructions in performance-critical operations:  SSE4.1 SSE4.2\n",
      "To enable them in other operations, rebuild TensorFlow with the appropriate compiler flags.\n"
     ]
    }
   ],
   "source": [
    "import pickle\n",
    "import keras\n",
    "\n",
    "Data_dir = \"data\"\n",
    "# saving\n",
    "# with open(Data_dir+'tokenizer.pickle', 'wb') as handle:\n",
    "#     pickle.dump(tokenise, handle, protocol=pickle.HIGHEST_PROTOCOL)\n",
    "\n",
    "# loading\n",
    "with open(Data_dir + 'tokenizer.pickle', 'rb') as handle:\n",
    "    tokenise = pickle.load(handle)\n",
    "max_sequence_len = 896\n",
    "model = keras.models.load_model(Data_dir + 'saved_model/my_model')"
   ]
  },
  {
   "cell_type": "code",
   "execution_count": 2,
   "id": "be212f4a",
   "metadata": {
    "execution": {
     "iopub.execute_input": "2022-12-12T23:56:33.106668Z",
     "iopub.status.busy": "2022-12-12T23:56:33.106200Z",
     "iopub.status.idle": "2022-12-12T23:56:33.117703Z",
     "shell.execute_reply": "2022-12-12T23:56:33.116893Z",
     "shell.execute_reply.started": "2022-12-12T23:56:33.106633Z"
    }
   },
   "outputs": [],
   "source": [
    "\n",
    "def make_lyrics(seed_text, next_words):\n",
    "    pred_index=[]\n",
    "    for i in range(next_words):\n",
    "        token_list = tokenise.texts_to_sequences([seed_text])[0]\n",
    "        token_list = pad_sequences([token_list],\n",
    "                     maxlen=max_sequence_len-1,padding='pre')\n",
    "        #print(token_list.shape)\n",
    "        token_list = np.reshape(token_list, (1, max_sequence_len-1, 1))\n",
    "        predicted = model.predict(token_list, verbose=0)\n",
    "        predicted_index =  np.argmax(predicted)\n",
    "        pred_index.append(predicted_index)\n",
    "        \n",
    "\n",
    "\n",
    "        #predicted_index=1\n",
    "        output_word = \"\"\n",
    "        for word, index in tokenise.word_index.items():\n",
    "            if index == predicted_index:\n",
    "                output_word = word\n",
    "                break\n",
    "        seed_text += \" \" + output_word\n",
    "    print(seed_text)\n",
    "    return seed_text\n",
    "\n"
   ]
  },
  {
   "cell_type": "code",
   "execution_count": 3,
   "id": "a23853cd",
   "metadata": {
    "execution": {
     "iopub.execute_input": "2022-12-12T23:56:33.924991Z",
     "iopub.status.busy": "2022-12-12T23:56:33.924516Z",
     "iopub.status.idle": "2022-12-12T23:56:33.929859Z",
     "shell.execute_reply": "2022-12-12T23:56:33.928990Z",
     "shell.execute_reply.started": "2022-12-12T23:56:33.924957Z"
    }
   },
   "outputs": [],
   "source": [
    "# dir(tokenise)"
   ]
  },
  {
   "cell_type": "code",
   "execution_count": 5,
   "id": "e4cf8ccd",
   "metadata": {
    "execution": {
     "iopub.execute_input": "2022-12-12T23:56:52.875513Z",
     "iopub.status.busy": "2022-12-12T23:56:52.875116Z",
     "iopub.status.idle": "2022-12-12T23:57:01.481119Z",
     "shell.execute_reply": "2022-12-12T23:57:01.480746Z",
     "shell.execute_reply.started": "2022-12-12T23:56:52.875482Z"
    },
    "tags": []
   },
   "outputs": [
    {
     "name": "stdout",
     "output_type": "stream",
     "text": [
      "Hey baby turn it louder jealous a little louder lean though a word to sooth me id be apart closer now now now now now now now this current between us this flow this feeling tonight i know that youll still wanna see me on the sunday morning music real loud let me love you while the moon is still out something in you ou ou lit up heaven in me e e the feeling wont let me slee ee eep cause im lost in the way you move the way you feel one kiss is all it takes fallin in love\n"
     ]
    }
   ],
   "source": [
    "from keras_preprocessing.sequence import pad_sequences\n",
    "import numpy as np\n",
    "line1 = make_lyrics('Hey baby',100)\n"
   ]
  },
  {
   "cell_type": "code",
   "execution_count": null,
   "id": "7ca9e1b2",
   "metadata": {},
   "outputs": [],
   "source": []
  }
 ],
 "metadata": {
  "kernelspec": {
   "display_name": "Python 3 (ipykernel)",
   "language": "python",
   "name": "python3"
  },
  "language_info": {
   "codemirror_mode": {
    "name": "ipython",
    "version": 3
   },
   "file_extension": ".py",
   "mimetype": "text/x-python",
   "name": "python",
   "nbconvert_exporter": "python",
   "pygments_lexer": "ipython3",
   "version": "3.10.8"
  }
 },
 "nbformat": 4,
 "nbformat_minor": 5
}
